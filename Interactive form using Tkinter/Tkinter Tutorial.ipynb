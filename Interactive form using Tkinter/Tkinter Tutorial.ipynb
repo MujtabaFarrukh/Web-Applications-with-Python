{
 "cells": [
  {
   "cell_type": "code",
   "execution_count": 20,
   "id": "7ade1831-03be-4a5c-96f3-e0be5b48e437",
   "metadata": {},
   "outputs": [],
   "source": [
    "from tkinter import *\n",
    "import tkinter.messagebox as mb\n",
    "\n",
    "class loginid(Frame):\n",
    "    def __init__(self, master):\n",
    "        super().__init__(master)\n",
    "        self.label_username = Label(self, text='Username', font=('Times new roman', 18))\n",
    "        self.label_password = Label(self, text='Password', font=('Times new roman', 18))\n",
    "\n",
    "        self.entry_username = Entry(self)\n",
    "        self.entry_password = Entry(self, show='*')\n",
    "\n",
    "        self.label_username.grid(row=0, column=0, sticky=E)\n",
    "        self.label_password.grid(row=1, column=0, sticky=E)\n",
    "        self.entry_username.grid(row=0, column=1)\n",
    "        self.entry_password.grid(row=1, column=1)\n",
    "\n",
    "        self.button = Button(self, text='Login', command=self.login)\n",
    "        self.button.grid(row=2, columnspan=2)\n",
    "\n",
    "        self.pack()\n",
    "\n",
    "    def login(self):\n",
    "        username = self.entry_username.get()\n",
    "        password = self.entry_password.get()\n",
    "        \n",
    "        if username == 'henry' and password == 'abc':\n",
    "            mb.showinfo('Login', 'Logged-In Successfully')\n",
    "        else:\n",
    "            mb.showinfo('Login', 'Login Unsuccessful')\n",
    "\n",
    "# Running the application\n",
    "ak = Tk()\n",
    "login = loginid(ak)\n",
    "ak.mainloop()\n"
   ]
  },
  {
   "cell_type": "code",
   "execution_count": null,
   "id": "9767044d-c7e3-4f44-b417-2f08fc23dfd2",
   "metadata": {},
   "outputs": [],
   "source": []
  },
  {
   "cell_type": "code",
   "execution_count": null,
   "id": "61516d2a-f33d-4db2-8325-147887c89602",
   "metadata": {},
   "outputs": [],
   "source": []
  },
  {
   "cell_type": "code",
   "execution_count": null,
   "id": "5f1a5817-8062-45a0-ab95-4700d2b89943",
   "metadata": {},
   "outputs": [],
   "source": []
  }
 ],
 "metadata": {
  "kernelspec": {
   "display_name": "Python 3 (ipykernel)",
   "language": "python",
   "name": "python3"
  },
  "language_info": {
   "codemirror_mode": {
    "name": "ipython",
    "version": 3
   },
   "file_extension": ".py",
   "mimetype": "text/x-python",
   "name": "python",
   "nbconvert_exporter": "python",
   "pygments_lexer": "ipython3",
   "version": "3.11.9"
  }
 },
 "nbformat": 4,
 "nbformat_minor": 5
}
